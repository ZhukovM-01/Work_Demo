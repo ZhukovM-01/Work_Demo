{
  "nbformat": 4,
  "nbformat_minor": 0,
  "metadata": {
    "colab": {
      "name": " GeneticAlgo_fin.ipynb",
      "provenance": [],
      "collapsed_sections": []
    },
    "kernelspec": {
      "name": "python3",
      "display_name": "Python 3"
    }
  },
  "cells": [
    {
      "cell_type": "code",
      "metadata": {
        "id": "IslOAdmQzSbs",
        "outputId": "3efcb17a-80bb-4047-e52a-15d0a79e6b1c",
        "colab": {
          "base_uri": "https://localhost:8080/"
        }
      },
      "source": [
        "!pip install mlrose"
      ],
      "execution_count": null,
      "outputs": [
        {
          "output_type": "stream",
          "text": [
            "Requirement already satisfied: mlrose in /usr/local/lib/python3.6/dist-packages (1.3.0)\n",
            "Requirement already satisfied: numpy in /usr/local/lib/python3.6/dist-packages (from mlrose) (1.18.5)\n",
            "Requirement already satisfied: sklearn in /usr/local/lib/python3.6/dist-packages (from mlrose) (0.0)\n",
            "Requirement already satisfied: scipy in /usr/local/lib/python3.6/dist-packages (from mlrose) (1.4.1)\n",
            "Requirement already satisfied: scikit-learn in /usr/local/lib/python3.6/dist-packages (from sklearn->mlrose) (0.22.2.post1)\n",
            "Requirement already satisfied: joblib>=0.11 in /usr/local/lib/python3.6/dist-packages (from scikit-learn->sklearn->mlrose) (0.17.0)\n"
          ],
          "name": "stdout"
        }
      ]
    },
    {
      "cell_type": "code",
      "metadata": {
        "id": "Uh1ZdhKzOB7W"
      },
      "source": [
        "import numpy as np\n",
        "import mlrose"
      ],
      "execution_count": null,
      "outputs": []
    },
    {
      "cell_type": "code",
      "metadata": {
        "id": "9LgMxdDOzLhR"
      },
      "source": [
        "city_number  = 150"
      ],
      "execution_count": null,
      "outputs": []
    },
    {
      "cell_type": "code",
      "metadata": {
        "id": "xKXgFzCTwmeg"
      },
      "source": [
        "def gen0_func(gen_size,Cities = None):\n",
        "  if Cities == None:\n",
        "    Route_Zero = []\n",
        "    for x in range(city_number):\n",
        "      Route_Zero.append([np.random.rand()*100 ,np.random.rand()*100])\n",
        "    #print(Route_Zero)\n",
        "  else:\n",
        "    Route_Zero = Cities\n",
        "\n",
        "\n",
        "\n",
        "  Index_array = []\n",
        "  for t in range(city_number):\n",
        "    Index_array.append(t)\n",
        "\n",
        "  Gen_0 = []\n",
        "  for y in range(gen_size):\n",
        "    np.random.shuffle(Index_array)\n",
        "    local_route = []\n",
        "    for z in Index_array:\n",
        "      local_route.append(Route_Zero[z])\n",
        "    Gen_0.append(local_route)\n",
        "    \n",
        "  return Gen_0, Route_Zero"
      ],
      "execution_count": null,
      "outputs": []
    },
    {
      "cell_type": "code",
      "metadata": {
        "id": "S4lN4eD_OarG"
      },
      "source": [
        "def eucl_func(a,b):\n",
        "  return np.sqrt(pow(abs(b[0]-a[0]),2) + pow(abs(b[1]-a[1]),2))"
      ],
      "execution_count": null,
      "outputs": []
    },
    {
      "cell_type": "code",
      "metadata": {
        "id": "RW7ehRm6y44F"
      },
      "source": [
        "def route_len(route):\n",
        "  cycle_len = 0\n",
        "  for x in range(0,len(route)-1):\n",
        "    cycle_len = cycle_len + eucl_func(route[x],route[x+1])\n",
        "  return 1/cycle_len"
      ],
      "execution_count": null,
      "outputs": []
    },
    {
      "cell_type": "code",
      "metadata": {
        "id": "ncDKHRB1yety"
      },
      "source": [
        "def gen_fit(generation):\n",
        "  gen_len = len(generation)\n",
        "  trial_fit = []\n",
        "  for x in generation:\n",
        "    trial_fit.append(route_len(x))\n",
        "  return trial_fit"
      ],
      "execution_count": null,
      "outputs": []
    },
    {
      "cell_type": "code",
      "metadata": {
        "id": "UZ7Omu711HzE"
      },
      "source": [
        "def selection_prob(fit_for_sel):\n",
        "  sum_of_fit = 0\n",
        "  for x in fit_for_sel:\n",
        "    sum_of_fit = sum_of_fit + x\n",
        "  \n",
        "  sel_array = []\n",
        "  for y in fit_for_sel:\n",
        "    sel_array.append(y/sum_of_fit)\n",
        "  \n",
        "  return sel_array\n"
      ],
      "execution_count": null,
      "outputs": []
    },
    {
      "cell_type": "code",
      "metadata": {
        "id": "weFJ8MaI2204"
      },
      "source": [
        "def prob_checker(chance):\n",
        "  prob_rand = np.random.random()\n",
        "  if prob_rand<=chance:\n",
        "    return 1\n",
        "  else:\n",
        "    return 0"
      ],
      "execution_count": null,
      "outputs": []
    },
    {
      "cell_type": "code",
      "metadata": {
        "id": "CR1SuZwf73kU"
      },
      "source": [
        "def sel_index(sel_prob):\n",
        "  ind_array = []\n",
        "  loc_sel = sel_prob\n",
        "  loc_sel_unsort = sel_prob\n",
        "  loc_sel=sorted(loc_sel_unsort,reverse=True)\n",
        "  for x in loc_sel:\n",
        "    for y in range(len(sel_prob)):\n",
        "      if x == sel_prob[y]:\n",
        "        ind_array.append(y)\n",
        "  return ind_array"
      ],
      "execution_count": null,
      "outputs": []
    },
    {
      "cell_type": "code",
      "metadata": {
        "id": "YKgnFQKr6RfZ"
      },
      "source": [
        "def crossover_op(gen_to_cross, sel_ind,crs_prob,seg_len):\n",
        "  new_gen = gen_to_cross\n",
        "  if prob_checker(crs_prob):\n",
        "    R1 = gen_to_cross[sel_ind[0]]\n",
        "    rand_ind = np.random.randint(0,5)\n",
        "    if rand_ind == sel_ind[0]:\n",
        "      while rand_ind == sel_ind[0]:\n",
        "        rand_ind = np.random.randint(0,5)\n",
        "    R2 = gen_to_cross[rand_ind]\n",
        "    segment_pos1 = np.random.randint(0,city_number)\n",
        "    segment_pos2 = np.random.randint(0,city_number)\n",
        "    segment_length = seg_len\n",
        "    segment = R1[segment_pos1:segment_pos1+segment_length]\n",
        "    Child_R = np.zeros((city_number,2),dtype=np.float32)\n",
        "    for x in range(len(segment)):\n",
        "      Child_R[x][0] = segment[x][0]\n",
        "      Child_R[x][1] = segment[x][1]\n",
        "    \n",
        "    counter2 = 0\n",
        "    for y in R2:\n",
        "      counter1 = 0\n",
        "      for z in Child_R:\n",
        "        if y[0] != z[0] and y[1] != z[1]:\n",
        "          counter1 = counter1 + 1\n",
        "      if counter1 == city_number:\n",
        "        Child_R[segment_length+counter2][0] = y[0]\n",
        "        Child_R[segment_length+counter2][1] = y[1]\n",
        "        counter2 = counter2 + 1\n",
        "        if counter2 == city_number-segment_length:\n",
        "          break\n",
        "          \n",
        "    np.roll(Child_R,segment_pos2)\n",
        "    for z in range(len(Child_R)):\n",
        "      new_gen[sel_ind[-1]][z][0] = Child_R[z][0]\n",
        "      new_gen[sel_ind[-1]][z][1] = Child_R[z][1]\n",
        "\n",
        "    return new_gen\n",
        "  else:\n",
        "    return new_gen"
      ],
      "execution_count": null,
      "outputs": []
    },
    {
      "cell_type": "code",
      "metadata": {
        "id": "KCsnr2-7HQpM"
      },
      "source": [
        "def mutation_op(gen_to_mutate,mutation_prob):\n",
        "  mutated_gen = []\n",
        "  for y in range(len(gen_to_mutate)):\n",
        "    loc_child = gen_to_mutate[y]\n",
        "    fin_child = gen_to_mutate[y]\n",
        "    for x in range(len(loc_child)):\n",
        "      if prob_checker(mutation_prob) == True:\n",
        "        rnd_ind = np.random.randint(x,city_number)\n",
        "        fin_child[x] == loc_child[rnd_ind]\n",
        "        fin_child[rnd_ind] == loc_child[x]\n",
        "    mutated_gen.append(fin_child)\n",
        "  return mutated_gen"
      ],
      "execution_count": null,
      "outputs": []
    },
    {
      "cell_type": "code",
      "metadata": {
        "id": "to8lAiCXJkkA"
      },
      "source": [
        "def eucl_len(route):\n",
        "  cycle_len = 0\n",
        "  for x in range(0,len(route)-1):\n",
        "    cycle_len = cycle_len + eucl_func(route[x],route[x+1])\n",
        "  cycle_len = cycle_len + eucl_func(route[0],route[-1])\n",
        "  return cycle_len"
      ],
      "execution_count": null,
      "outputs": []
    },
    {
      "cell_type": "code",
      "metadata": {
        "id": "2rS85DS9MHsp"
      },
      "source": [
        "def gen_eucl_lengths(generation):\n",
        "  gen_len = len(generation)\n",
        "  trial_fit = []\n",
        "  for x in generation:\n",
        "    trial_fit.append(eucl_len(x))\n",
        "  return trial_fit"
      ],
      "execution_count": null,
      "outputs": []
    },
    {
      "cell_type": "code",
      "metadata": {
        "id": "t476IIgjzdo0"
      },
      "source": [
        "def prop1(generation_size,cross_probability,mutation_probability,segment_length,generation = None,cities = None):\n",
        "  if generation == None:\n",
        "    GEN_0, Route_Zero = gen0_func(generation_size)\n",
        "  else:\n",
        "    GEN_0, Route_Zero = gen0_func(generation_size,cities)\n",
        "  fitness_coords = mlrose.TravellingSales(coords = Route_Zero)\n",
        "  problem_fit = mlrose.TSPOpt(length = city_number, fitness_fn = fitness_coords, maximize=False)\n",
        "  best_state, best_fitness = mlrose.genetic_alg(problem_fit, random_state = 2)\n",
        "\n",
        "  probs = [0.1,0.2,0.3,0.4,0.5,0.6,0.7,0.8,0.9]\n",
        "  mutations = [0.01,0.05,0.1,0.15]\n",
        "  seg_lengths = [10,20,30,40,50]\n",
        "  min_error = 1e6\n",
        "  i = 0\n",
        "  best_params = []\n",
        "  best_gen = []\n",
        "  for prob in probs:\n",
        "    for mutation in mutations:\n",
        "      for seg_len in seg_lengths:\n",
        "        i = i + 1\n",
        "        print('iter:={}'.format(i))\n",
        "        print('prob={} mutation_prob={} seg_len={}'.format(prob,mutation,seg_len))\n",
        "        LENGTHS_0 = gen_eucl_lengths(GEN_0)\n",
        "        FITNESS_0 = gen_fit(GEN_0)\n",
        "        SELECTION_P_0 = selection_prob(FITNESS_0)\n",
        "        SELECTION_0 = sel_index(SELECTION_P_0)\n",
        "        GEN_1 = crossover_op(GEN_0,SELECTION_0,prob,seg_len)\n",
        "        GEN_1 = mutation_op(GEN_1,mutation)\n",
        "        LENGTHS_1 = gen_eucl_lengths(GEN_1)\n",
        "        #print(\"ORIGINAL LENGTHS:\")\n",
        "        LENGTHS_0.sort()\n",
        "        #print(LENGTHS_0)\n",
        "        #print(\"AFTER GENETIC MODS:\")\n",
        "        LENGTHS_1.sort()\n",
        "        MIN_LEN = min(LENGTHS_0[0], LENGTHS_1[0])\n",
        "        params = [prob,mutation,seg_len]\n",
        "        error = (MIN_LEN - best_fitness)/best_fitness\n",
        "        print('min_len={}'.format(MIN_LEN))\n",
        "        print('mlrose:{}'.format(best_fitness))\n",
        "        print('error={}'.format(error))\n",
        "        if min_error > error:\n",
        "          min_error = error\n",
        "          best_params = params\n",
        "          best_gen = GEN_1\n",
        "  print('best_params={}'.format(best_params))\n",
        "  print('min_error={}'.format(min_error))\n",
        "\n",
        "  return best_gen#GEN_1"
      ],
      "execution_count": null,
      "outputs": []
    },
    {
      "cell_type": "code",
      "metadata": {
        "id": "EuHUs0UTK5Iu"
      },
      "source": [
        "def prop(generation_size,cross_probability,mutation_probability,segment_length,generation = None,cities = None):\n",
        "  if generation == None:\n",
        "    GEN_0 = gen0_func(generation_size)\n",
        "  else:\n",
        "    GEN_0 = gen0_func(generation_size,cities)\n",
        "  LENGTHS_0 = gen_eucl_lengths(GEN_0)\n",
        "  FITNESS_0 = gen_fit(GEN_0)\n",
        "  SELECTION_P_0 = selection_prob(FITNESS_0)\n",
        "  SELECTION_0 = sel_index(SELECTION_P_0)\n",
        "  GEN_1 = crossover_op(GEN_0,SELECTION_0,cross_probability,segment_length)\n",
        "  GEN_1 = mutation_op(GEN_1,mutation_probability)\n",
        "  LENGTHS_1 = gen_eucl_lengths(GEN_1)\n",
        "  print(\"ORIGINAL LENGTHS:\")\n",
        "  LENGTHS_0.sort()\n",
        "  print(LENGTHS_0)\n",
        "  print(\"AFTER GENETIC MODS:\")\n",
        "  LENGTHS_1.sort()\n",
        "  print(LENGTHS_1)\n",
        "  return GEN_1"
      ],
      "execution_count": null,
      "outputs": []
    },
    {
      "cell_type": "code",
      "metadata": {
        "id": "SuIh_70aQPAs"
      },
      "source": [
        "def run(iterations,INPUT = None):\n",
        "  loc_generation = None\n",
        "  for x in range(iterations):\n",
        "    if x == 0:\n",
        "      loc_generation = prop1(10,0.6,0.05,11,loc_generation,INPUT)\n",
        "    else:\n",
        "      loc_generation = prop1(10,0.6,0.05,11,loc_generation)\n",
        "  return loc_generation"
      ],
      "execution_count": null,
      "outputs": []
    },
    {
      "cell_type": "code",
      "metadata": {
        "id": "CiJgECUqwkPX"
      },
      "source": [
        "#INPUT = []\n",
        "#for x in a:\n",
        "#  INPUT.append([x[0]/100,x[1]/100])"
      ],
      "execution_count": null,
      "outputs": []
    },
    {
      "cell_type": "code",
      "metadata": {
        "id": "FH5nV6lSxwPO"
      },
      "source": [
        "#INPUT"
      ],
      "execution_count": null,
      "outputs": []
    },
    {
      "cell_type": "code",
      "metadata": {
        "id": "YEiuAX7SXIa5"
      },
      "source": [
        ""
      ],
      "execution_count": null,
      "outputs": []
    }
  ]
}
